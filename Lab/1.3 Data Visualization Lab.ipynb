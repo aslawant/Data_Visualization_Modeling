{
 "cells": [
  {
   "cell_type": "markdown",
   "id": "745729be-5560-4f36-bc6d-7e2d024d70d5",
   "metadata": {},
   "source": [
    "# Lab Instructions\n",
    "\n",
    "You have been hired by a record executive to design a guaranteed smash hit song based on data.  The exec has decided that if you make a song that has all the most popular features of recent songs then it will definitely be a hit.  So if - for example - the most common key in the Spotify data is C# then we would want the song we are designing to also be in C#.  If a \"typical\" value of BPM is between 120 and 130 then we would want the song we are designing to also have a tempo between 120 and 130 BMP.\n",
    "\n",
    "Visualize and describe the distribution of:\n",
    "* BPM\n",
    "* Key\n",
    "* Mode\n",
    "* Danceability\n",
    "* Energy\n",
    "* Speechiness\n",
    "* Acousticness\n",
    "\n",
    "Based on your visualizations and calculations, what values for each of these features would make a song a guaranteed smash hit?  For quantitative features, you should propose a range of values.\n",
    "\n",
    "Use a large language model to help you write code to identify if there are any songs in the Spotify dataset that meet all of the criteria we determined.  What is/are the artist(s) and title(s) of the song?  Were any of these songs actually popular?\n",
    "\n",
    "Pick a song that you know was a smash hit. How do the values of BPM, key, mode, danceability, etc. compare to other songs? \n",
    "\n",
    "**Hint:**  Import the Spotify data using `df = pd.read_csv('spotify-2023.csv', encoding='ISO-8859-1')`."
   ]
  },
  {
   "cell_type": "code",
   "execution_count": 4,
   "id": "841e7228-8179-4d0e-b2fc-98a9d68b7e22",
   "metadata": {
    "tags": []
   },
   "outputs": [
    {
     "data": {
      "text/html": [
       "<div>\n",
       "<style scoped>\n",
       "    .dataframe tbody tr th:only-of-type {\n",
       "        vertical-align: middle;\n",
       "    }\n",
       "\n",
       "    .dataframe tbody tr th {\n",
       "        vertical-align: top;\n",
       "    }\n",
       "\n",
       "    .dataframe thead th {\n",
       "        text-align: right;\n",
       "    }\n",
       "</style>\n",
       "<table border=\"1\" class=\"dataframe\">\n",
       "  <thead>\n",
       "    <tr style=\"text-align: right;\">\n",
       "      <th></th>\n",
       "      <th>track_name</th>\n",
       "      <th>artist(s)_name</th>\n",
       "      <th>artist_count</th>\n",
       "      <th>released_year</th>\n",
       "      <th>released_month</th>\n",
       "      <th>released_day</th>\n",
       "      <th>in_spotify_playlists</th>\n",
       "      <th>in_spotify_charts</th>\n",
       "      <th>streams</th>\n",
       "      <th>in_apple_playlists</th>\n",
       "      <th>...</th>\n",
       "      <th>bpm</th>\n",
       "      <th>key</th>\n",
       "      <th>mode</th>\n",
       "      <th>danceability_%</th>\n",
       "      <th>valence_%</th>\n",
       "      <th>energy_%</th>\n",
       "      <th>acousticness_%</th>\n",
       "      <th>instrumentalness_%</th>\n",
       "      <th>liveness_%</th>\n",
       "      <th>speechiness_%</th>\n",
       "    </tr>\n",
       "  </thead>\n",
       "  <tbody>\n",
       "    <tr>\n",
       "      <th>0</th>\n",
       "      <td>Seven (feat. Latto) (Explicit Ver.)</td>\n",
       "      <td>Latto, Jung Kook</td>\n",
       "      <td>2</td>\n",
       "      <td>2023</td>\n",
       "      <td>7</td>\n",
       "      <td>14</td>\n",
       "      <td>553</td>\n",
       "      <td>147</td>\n",
       "      <td>141381703</td>\n",
       "      <td>43</td>\n",
       "      <td>...</td>\n",
       "      <td>125</td>\n",
       "      <td>B</td>\n",
       "      <td>Major</td>\n",
       "      <td>80</td>\n",
       "      <td>89</td>\n",
       "      <td>83</td>\n",
       "      <td>31</td>\n",
       "      <td>0</td>\n",
       "      <td>8</td>\n",
       "      <td>4</td>\n",
       "    </tr>\n",
       "    <tr>\n",
       "      <th>1</th>\n",
       "      <td>LALA</td>\n",
       "      <td>Myke Towers</td>\n",
       "      <td>1</td>\n",
       "      <td>2023</td>\n",
       "      <td>3</td>\n",
       "      <td>23</td>\n",
       "      <td>1474</td>\n",
       "      <td>48</td>\n",
       "      <td>133716286</td>\n",
       "      <td>48</td>\n",
       "      <td>...</td>\n",
       "      <td>92</td>\n",
       "      <td>C#</td>\n",
       "      <td>Major</td>\n",
       "      <td>71</td>\n",
       "      <td>61</td>\n",
       "      <td>74</td>\n",
       "      <td>7</td>\n",
       "      <td>0</td>\n",
       "      <td>10</td>\n",
       "      <td>4</td>\n",
       "    </tr>\n",
       "    <tr>\n",
       "      <th>2</th>\n",
       "      <td>vampire</td>\n",
       "      <td>Olivia Rodrigo</td>\n",
       "      <td>1</td>\n",
       "      <td>2023</td>\n",
       "      <td>6</td>\n",
       "      <td>30</td>\n",
       "      <td>1397</td>\n",
       "      <td>113</td>\n",
       "      <td>140003974</td>\n",
       "      <td>94</td>\n",
       "      <td>...</td>\n",
       "      <td>138</td>\n",
       "      <td>F</td>\n",
       "      <td>Major</td>\n",
       "      <td>51</td>\n",
       "      <td>32</td>\n",
       "      <td>53</td>\n",
       "      <td>17</td>\n",
       "      <td>0</td>\n",
       "      <td>31</td>\n",
       "      <td>6</td>\n",
       "    </tr>\n",
       "    <tr>\n",
       "      <th>3</th>\n",
       "      <td>Cruel Summer</td>\n",
       "      <td>Taylor Swift</td>\n",
       "      <td>1</td>\n",
       "      <td>2019</td>\n",
       "      <td>8</td>\n",
       "      <td>23</td>\n",
       "      <td>7858</td>\n",
       "      <td>100</td>\n",
       "      <td>800840817</td>\n",
       "      <td>116</td>\n",
       "      <td>...</td>\n",
       "      <td>170</td>\n",
       "      <td>A</td>\n",
       "      <td>Major</td>\n",
       "      <td>55</td>\n",
       "      <td>58</td>\n",
       "      <td>72</td>\n",
       "      <td>11</td>\n",
       "      <td>0</td>\n",
       "      <td>11</td>\n",
       "      <td>15</td>\n",
       "    </tr>\n",
       "    <tr>\n",
       "      <th>4</th>\n",
       "      <td>WHERE SHE GOES</td>\n",
       "      <td>Bad Bunny</td>\n",
       "      <td>1</td>\n",
       "      <td>2023</td>\n",
       "      <td>5</td>\n",
       "      <td>18</td>\n",
       "      <td>3133</td>\n",
       "      <td>50</td>\n",
       "      <td>303236322</td>\n",
       "      <td>84</td>\n",
       "      <td>...</td>\n",
       "      <td>144</td>\n",
       "      <td>A</td>\n",
       "      <td>Minor</td>\n",
       "      <td>65</td>\n",
       "      <td>23</td>\n",
       "      <td>80</td>\n",
       "      <td>14</td>\n",
       "      <td>63</td>\n",
       "      <td>11</td>\n",
       "      <td>6</td>\n",
       "    </tr>\n",
       "  </tbody>\n",
       "</table>\n",
       "<p>5 rows × 24 columns</p>\n",
       "</div>"
      ],
      "text/plain": [
       "                            track_name    artist(s)_name  artist_count  \\\n",
       "0  Seven (feat. Latto) (Explicit Ver.)  Latto, Jung Kook             2   \n",
       "1                                 LALA       Myke Towers             1   \n",
       "2                              vampire    Olivia Rodrigo             1   \n",
       "3                         Cruel Summer      Taylor Swift             1   \n",
       "4                       WHERE SHE GOES         Bad Bunny             1   \n",
       "\n",
       "   released_year  released_month  released_day  in_spotify_playlists  \\\n",
       "0           2023               7            14                   553   \n",
       "1           2023               3            23                  1474   \n",
       "2           2023               6            30                  1397   \n",
       "3           2019               8            23                  7858   \n",
       "4           2023               5            18                  3133   \n",
       "\n",
       "   in_spotify_charts    streams  in_apple_playlists  ...  bpm key   mode  \\\n",
       "0                147  141381703                  43  ...  125   B  Major   \n",
       "1                 48  133716286                  48  ...   92  C#  Major   \n",
       "2                113  140003974                  94  ...  138   F  Major   \n",
       "3                100  800840817                 116  ...  170   A  Major   \n",
       "4                 50  303236322                  84  ...  144   A  Minor   \n",
       "\n",
       "  danceability_%  valence_% energy_% acousticness_%  instrumentalness_%  \\\n",
       "0             80         89       83             31                   0   \n",
       "1             71         61       74              7                   0   \n",
       "2             51         32       53             17                   0   \n",
       "3             55         58       72             11                   0   \n",
       "4             65         23       80             14                  63   \n",
       "\n",
       "   liveness_%  speechiness_%  \n",
       "0           8              4  \n",
       "1          10              4  \n",
       "2          31              6  \n",
       "3          11             15  \n",
       "4          11              6  \n",
       "\n",
       "[5 rows x 24 columns]"
      ]
     },
     "execution_count": 4,
     "metadata": {},
     "output_type": "execute_result"
    }
   ],
   "source": [
    "import pandas as pd\n",
    "\n",
    "df = pd.read_csv('spotify-2023.csv', encoding='ISO-8859-1')\n",
    "\n",
    "df.head()"
   ]
  },
  {
   "cell_type": "code",
   "execution_count": 2,
   "id": "6686f8db-f57b-4c28-912e-367e175fb409",
   "metadata": {},
   "outputs": [
    {
     "data": {
      "text/plain": [
       "<Axes: ylabel='Frequency'>"
      ]
     },
     "execution_count": 2,
     "metadata": {},
     "output_type": "execute_result"
    },
    {
     "data": {
      "image/png": "[encoded data removed]",
      "text/plain": [
       "<Figure size 640x480 with 1 Axes>"
      ]
     },
     "metadata": {},
     "output_type": "display_data"
    }
   ],
   "source": [
    "df['bpm'].plot(kind='hist')"
   ]
  },
  {
   "cell_type": "code",
   "execution_count": 4,
   "id": "8711e8e8-0881-4d2a-88f9-94e2e653ad9c",
   "metadata": {},
   "outputs": [
    {
     "data": {
      "text/html": [
       "<div>\n",
       "<style scoped>\n",
       "    .dataframe tbody tr th:only-of-type {\n",
       "        vertical-align: middle;\n",
       "    }\n",
       "\n",
       "    .dataframe tbody tr th {\n",
       "        vertical-align: top;\n",
       "    }\n",
       "\n",
       "    .dataframe thead th {\n",
       "        text-align: right;\n",
       "    }\n",
       "</style>\n",
       "<table border=\"1\" class=\"dataframe\">\n",
       "  <thead>\n",
       "    <tr style=\"text-align: right;\">\n",
       "      <th></th>\n",
       "      <th>track_name</th>\n",
       "      <th>artist(s)_name</th>\n",
       "      <th>artist_count</th>\n",
       "      <th>released_year</th>\n",
       "      <th>released_month</th>\n",
       "      <th>released_day</th>\n",
       "      <th>in_spotify_playlists</th>\n",
       "      <th>in_spotify_charts</th>\n",
       "      <th>streams</th>\n",
       "      <th>in_apple_playlists</th>\n",
       "      <th>...</th>\n",
       "      <th>bpm</th>\n",
       "      <th>key</th>\n",
       "      <th>mode</th>\n",
       "      <th>danceability_%</th>\n",
       "      <th>valence_%</th>\n",
       "      <th>energy_%</th>\n",
       "      <th>acousticness_%</th>\n",
       "      <th>instrumentalness_%</th>\n",
       "      <th>liveness_%</th>\n",
       "      <th>speechiness_%</th>\n",
       "    </tr>\n",
       "  </thead>\n",
       "  <tbody>\n",
       "    <tr>\n",
       "      <th>93</th>\n",
       "      <td>Donï¿½ï¿½ï¿½t Bl</td>\n",
       "      <td>Taylor Swift</td>\n",
       "      <td>1</td>\n",
       "      <td>2017</td>\n",
       "      <td>11</td>\n",
       "      <td>8</td>\n",
       "      <td>4875</td>\n",
       "      <td>23</td>\n",
       "      <td>685032533</td>\n",
       "      <td>19</td>\n",
       "      <td>...</td>\n",
       "      <td>136</td>\n",
       "      <td>A</td>\n",
       "      <td>Minor</td>\n",
       "      <td>62</td>\n",
       "      <td>19</td>\n",
       "      <td>53</td>\n",
       "      <td>11</td>\n",
       "      <td>0</td>\n",
       "      <td>6</td>\n",
       "      <td>4</td>\n",
       "    </tr>\n",
       "    <tr>\n",
       "      <th>120</th>\n",
       "      <td>LUNA</td>\n",
       "      <td>Junior H, Peso Pluma</td>\n",
       "      <td>2</td>\n",
       "      <td>2023</td>\n",
       "      <td>6</td>\n",
       "      <td>22</td>\n",
       "      <td>201</td>\n",
       "      <td>11</td>\n",
       "      <td>55842345</td>\n",
       "      <td>19</td>\n",
       "      <td>...</td>\n",
       "      <td>128</td>\n",
       "      <td>A</td>\n",
       "      <td>Minor</td>\n",
       "      <td>75</td>\n",
       "      <td>79</td>\n",
       "      <td>63</td>\n",
       "      <td>33</td>\n",
       "      <td>0</td>\n",
       "      <td>15</td>\n",
       "      <td>4</td>\n",
       "    </tr>\n",
       "    <tr>\n",
       "      <th>131</th>\n",
       "      <td>OMG</td>\n",
       "      <td>NewJeans</td>\n",
       "      <td>1</td>\n",
       "      <td>2023</td>\n",
       "      <td>1</td>\n",
       "      <td>2</td>\n",
       "      <td>1783</td>\n",
       "      <td>27</td>\n",
       "      <td>430977451</td>\n",
       "      <td>26</td>\n",
       "      <td>...</td>\n",
       "      <td>127</td>\n",
       "      <td>A</td>\n",
       "      <td>Minor</td>\n",
       "      <td>80</td>\n",
       "      <td>74</td>\n",
       "      <td>77</td>\n",
       "      <td>36</td>\n",
       "      <td>0</td>\n",
       "      <td>11</td>\n",
       "      <td>4</td>\n",
       "    </tr>\n",
       "    <tr>\n",
       "      <th>150</th>\n",
       "      <td>Mi Bello Angel</td>\n",
       "      <td>Natanael Cano</td>\n",
       "      <td>1</td>\n",
       "      <td>2023</td>\n",
       "      <td>6</td>\n",
       "      <td>30</td>\n",
       "      <td>86</td>\n",
       "      <td>8</td>\n",
       "      <td>31873544</td>\n",
       "      <td>7</td>\n",
       "      <td>...</td>\n",
       "      <td>128</td>\n",
       "      <td>A</td>\n",
       "      <td>Minor</td>\n",
       "      <td>81</td>\n",
       "      <td>90</td>\n",
       "      <td>77</td>\n",
       "      <td>1</td>\n",
       "      <td>0</td>\n",
       "      <td>9</td>\n",
       "      <td>5</td>\n",
       "    </tr>\n",
       "    <tr>\n",
       "      <th>194</th>\n",
       "      <td>Shut up My Moms Calling</td>\n",
       "      <td>Hotel Ugly</td>\n",
       "      <td>1</td>\n",
       "      <td>2020</td>\n",
       "      <td>2</td>\n",
       "      <td>10</td>\n",
       "      <td>1788</td>\n",
       "      <td>14</td>\n",
       "      <td>405136812</td>\n",
       "      <td>1</td>\n",
       "      <td>...</td>\n",
       "      <td>139</td>\n",
       "      <td>A</td>\n",
       "      <td>Minor</td>\n",
       "      <td>48</td>\n",
       "      <td>37</td>\n",
       "      <td>41</td>\n",
       "      <td>32</td>\n",
       "      <td>0</td>\n",
       "      <td>10</td>\n",
       "      <td>10</td>\n",
       "    </tr>\n",
       "  </tbody>\n",
       "</table>\n",
       "<p>5 rows × 24 columns</p>\n",
       "</div>"
      ],
      "text/plain": [
       "                  track_name        artist(s)_name  artist_count  \\\n",
       "93          Donï¿½ï¿½ï¿½t Bl          Taylor Swift             1   \n",
       "120                     LUNA  Junior H, Peso Pluma             2   \n",
       "131                      OMG              NewJeans             1   \n",
       "150           Mi Bello Angel         Natanael Cano             1   \n",
       "194  Shut up My Moms Calling            Hotel Ugly             1   \n",
       "\n",
       "     released_year  released_month  released_day  in_spotify_playlists  \\\n",
       "93            2017              11             8                  4875   \n",
       "120           2023               6            22                   201   \n",
       "131           2023               1             2                  1783   \n",
       "150           2023               6            30                    86   \n",
       "194           2020               2            10                  1788   \n",
       "\n",
       "     in_spotify_charts    streams  in_apple_playlists  ...  bpm key   mode  \\\n",
       "93                  23  685032533                  19  ...  136   A  Minor   \n",
       "120                 11   55842345                  19  ...  128   A  Minor   \n",
       "131                 27  430977451                  26  ...  127   A  Minor   \n",
       "150                  8   31873544                   7  ...  128   A  Minor   \n",
       "194                 14  405136812                   1  ...  139   A  Minor   \n",
       "\n",
       "    danceability_%  valence_% energy_% acousticness_%  instrumentalness_%  \\\n",
       "93              62         19       53             11                   0   \n",
       "120             75         79       63             33                   0   \n",
       "131             80         74       77             36                   0   \n",
       "150             81         90       77              1                   0   \n",
       "194             48         37       41             32                   0   \n",
       "\n",
       "     liveness_%  speechiness_%  \n",
       "93            6              4  \n",
       "120          15              4  \n",
       "131          11              4  \n",
       "150           9              5  \n",
       "194          10             10  \n",
       "\n",
       "[5 rows x 24 columns]"
      ]
     },
     "execution_count": 4,
     "metadata": {},
     "output_type": "execute_result"
    }
   ],
   "source": [
    "\n",
    "filtered_df = df.loc[(df['bpm'] >= 120) & (df['bpm'] <= 140) & (df['mode'] == 'Minor') & (df['key'] == 'A') ]\n",
    "\n",
    "filtered_df.head()"
   ]
  },
  {
   "cell_type": "markdown",
   "id": "04b5817b-71f2-401f-9703-8cd642c1aafc",
   "metadata": {},
   "source": [
    "# Visualization"
   ]
  },
  {
   "cell_type": "code",
   "execution_count": 1,
   "id": "f1f6edee-b22b-4218-8a5f-a580f4a036d0",
   "metadata": {},
   "outputs": [],
   "source": [
    "import matplotlib.pyplot as plt"
   ]
  },
  {
   "cell_type": "code",
   "execution_count": 7,
   "id": "e9acc1bc-0268-4ddd-86b6-1fd585e30241",
   "metadata": {},
   "outputs": [],
   "source": [
    "features = ['bpm', 'danceability_%', 'energy_%', 'speechiness_%', 'acousticness_%']"
   ]
  },
  {
   "cell_type": "markdown",
   "id": "b7e32737-c1ff-46d7-89e3-0322a91d0c05",
   "metadata": {},
   "source": [
    "# BPM"
   ]
  },
  {
   "cell_type": "code",
   "execution_count": 26,
   "id": "bee30cfd-813e-4454-96e2-e1fe754fbace",
   "metadata": {},
   "outputs": [
    {
     "data": {
      "image/png": "[encoded data removed]",
      "text/plain": [
       "<Figure size 640x480 with 1 Axes>"
      ]
     },
     "metadata": {},
     "output_type": "display_data"
    }
   ],
   "source": [
    "df['bpm'].plot(kind='hist')\n",
    "plt.title('BPM')\n",
    "plt.show()"
   ]
  },
  {
   "cell_type": "markdown",
   "id": "f01285e1-1a0f-4236-bf7a-625f6cbc56ab",
   "metadata": {},
   "source": [
    "# Danceability"
   ]
  },
  {
   "cell_type": "code",
   "execution_count": 33,
   "id": "ba72673a-3f60-49cf-8086-b36e2cc8664b",
   "metadata": {},
   "outputs": [
    {
     "data": {
      "image/png": "[encoded data removed]",
      "text/plain": [
       "<Figure size 640x480 with 1 Axes>"
      ]
     },
     "metadata": {},
     "output_type": "display_data"
    }
   ],
   "source": [
    "df['danceability_%'].plot(kind='hist')\n",
    "plt.title('Danceability (%)')\n",
    "plt.show()"
   ]
  },
  {
   "cell_type": "markdown",
   "id": "1ee00f8d-5aee-4237-814e-1345cb46ea14",
   "metadata": {},
   "source": [
    "# Energy"
   ]
  },
  {
   "cell_type": "code",
   "execution_count": 34,
   "id": "2b9af43f-712c-4b75-b194-eb313e95b596",
   "metadata": {},
   "outputs": [
    {
     "data": {
      "image/png": "[encoded data removed]",
      "text/plain": [
       "<Figure size 640x480 with 1 Axes>"
      ]
     },
     "metadata": {},
     "output_type": "display_data"
    }
   ],
   "source": [
    "df['energy_%'].plot(kind='hist')\n",
    "plt.title('Energy (%)')\n",
    "plt.show()"
   ]
  },
  {
   "cell_type": "markdown",
   "id": "c7621224-d101-47e8-bbf4-ead67a7ae9ef",
   "metadata": {},
   "source": [
    "# Speechiness"
   ]
  },
  {
   "cell_type": "code",
   "execution_count": 35,
   "id": "9891c517-31ca-4413-8fb5-3559f0d17550",
   "metadata": {},
   "outputs": [
    {
     "data": {
      "image/png": "[encoded data removed]",
      "text/plain": [
       "<Figure size 640x480 with 1 Axes>"
      ]
     },
     "metadata": {},
     "output_type": "display_data"
    }
   ],
   "source": [
    "df['speechiness_%'].plot(kind='hist')\n",
    "plt.title('Speechiness (%)')\n",
    "plt.show()"
   ]
  },
  {
   "cell_type": "markdown",
   "id": "4413dbc9-80b9-4f4c-a62f-fb8c131df54d",
   "metadata": {},
   "source": [
    "# Acousticness"
   ]
  },
  {
   "cell_type": "code",
   "execution_count": 30,
   "id": "2b362318-3bb4-4785-8ac0-b4359b057560",
   "metadata": {},
   "outputs": [
    {
     "data": {
      "image/png": "[encoded data removed]",
      "text/plain": [
       "<Figure size 640x480 with 1 Axes>"
      ]
     },
     "metadata": {},
     "output_type": "display_data"
    }
   ],
   "source": [
    "df['acousticness_%'].plot(kind='hist')\n",
    "plt.title('Acousticness (%)')\n",
    "plt.show()"
   ]
  },
  {
   "cell_type": "markdown",
   "id": "36334330-0f0e-4a14-a906-65f3b3b2e5db",
   "metadata": {},
   "source": [
    "# Key"
   ]
  },
  {
   "cell_type": "code",
   "execution_count": 31,
   "id": "13eaa10f-2a94-49fe-a175-4e8ce67eb1c5",
   "metadata": {},
   "outputs": [
    {
     "data": {
      "image/png": "[encoded data removed]",
      "text/plain": [
       "<Figure size 640x480 with 1 Axes>"
      ]
     },
     "metadata": {},
     "output_type": "display_data"
    }
   ],
   "source": [
    "df['key'].value_counts().plot(kind='bar')\n",
    "plt.title('Key')\n",
    "plt.show()"
   ]
  },
  {
   "cell_type": "markdown",
   "id": "32ab9b83-d761-4d58-9f0b-66b9cc255ecd",
   "metadata": {},
   "source": [
    "# Mode"
   ]
  },
  {
   "cell_type": "code",
   "execution_count": 32,
   "id": "d2305486-352b-49aa-bd8b-de55b88cee28",
   "metadata": {},
   "outputs": [
    {
     "data": {
      "image/png": "[encoded data removed]",
      "text/plain": [
       "<Figure size 640x480 with 1 Axes>"
      ]
     },
     "metadata": {},
     "output_type": "display_data"
    }
   ],
   "source": [
    "df['mode'].value_counts().plot(kind='bar')\n",
    "plt.title('Mode')\n",
    "plt.show()"
   ]
  },
  {
   "cell_type": "markdown",
   "id": "a4713107-16ca-44d7-bd76-5ed9a9812988",
   "metadata": {},
   "source": [
    "# Data Summary"
   ]
  },
  {
   "cell_type": "code",
   "execution_count": 16,
   "id": "e9b63fea-3065-4c9c-a6e9-a75f3060d9de",
   "metadata": {},
   "outputs": [
    {
     "data": {
      "text/html": [
       "<div>\n",
       "<style scoped>\n",
       "    .dataframe tbody tr th:only-of-type {\n",
       "        vertical-align: middle;\n",
       "    }\n",
       "\n",
       "    .dataframe tbody tr th {\n",
       "        vertical-align: top;\n",
       "    }\n",
       "\n",
       "    .dataframe thead th {\n",
       "        text-align: right;\n",
       "    }\n",
       "</style>\n",
       "<table border=\"1\" class=\"dataframe\">\n",
       "  <thead>\n",
       "    <tr style=\"text-align: right;\">\n",
       "      <th></th>\n",
       "      <th>bpm</th>\n",
       "      <th>danceability_%</th>\n",
       "      <th>energy_%</th>\n",
       "      <th>speechiness_%</th>\n",
       "      <th>acousticness_%</th>\n",
       "    </tr>\n",
       "  </thead>\n",
       "  <tbody>\n",
       "    <tr>\n",
       "      <th>count</th>\n",
       "      <td>953.00</td>\n",
       "      <td>953.00</td>\n",
       "      <td>953.00</td>\n",
       "      <td>953.00</td>\n",
       "      <td>953.00</td>\n",
       "    </tr>\n",
       "    <tr>\n",
       "      <th>mean</th>\n",
       "      <td>122.54</td>\n",
       "      <td>66.97</td>\n",
       "      <td>64.28</td>\n",
       "      <td>10.13</td>\n",
       "      <td>27.06</td>\n",
       "    </tr>\n",
       "    <tr>\n",
       "      <th>std</th>\n",
       "      <td>28.06</td>\n",
       "      <td>14.63</td>\n",
       "      <td>16.55</td>\n",
       "      <td>9.91</td>\n",
       "      <td>26.00</td>\n",
       "    </tr>\n",
       "    <tr>\n",
       "      <th>min</th>\n",
       "      <td>65.00</td>\n",
       "      <td>23.00</td>\n",
       "      <td>9.00</td>\n",
       "      <td>2.00</td>\n",
       "      <td>0.00</td>\n",
       "    </tr>\n",
       "    <tr>\n",
       "      <th>25%</th>\n",
       "      <td>100.00</td>\n",
       "      <td>57.00</td>\n",
       "      <td>53.00</td>\n",
       "      <td>4.00</td>\n",
       "      <td>6.00</td>\n",
       "    </tr>\n",
       "    <tr>\n",
       "      <th>50%</th>\n",
       "      <td>121.00</td>\n",
       "      <td>69.00</td>\n",
       "      <td>66.00</td>\n",
       "      <td>6.00</td>\n",
       "      <td>18.00</td>\n",
       "    </tr>\n",
       "    <tr>\n",
       "      <th>75%</th>\n",
       "      <td>140.00</td>\n",
       "      <td>78.00</td>\n",
       "      <td>77.00</td>\n",
       "      <td>11.00</td>\n",
       "      <td>43.00</td>\n",
       "    </tr>\n",
       "    <tr>\n",
       "      <th>max</th>\n",
       "      <td>206.00</td>\n",
       "      <td>96.00</td>\n",
       "      <td>97.00</td>\n",
       "      <td>64.00</td>\n",
       "      <td>97.00</td>\n",
       "    </tr>\n",
       "  </tbody>\n",
       "</table>\n",
       "</div>"
      ],
      "text/plain": [
       "          bpm  danceability_%  energy_%  speechiness_%  acousticness_%\n",
       "count  953.00          953.00    953.00         953.00          953.00\n",
       "mean   122.54           66.97     64.28          10.13           27.06\n",
       "std     28.06           14.63     16.55           9.91           26.00\n",
       "min     65.00           23.00      9.00           2.00            0.00\n",
       "25%    100.00           57.00     53.00           4.00            6.00\n",
       "50%    121.00           69.00     66.00           6.00           18.00\n",
       "75%    140.00           78.00     77.00          11.00           43.00\n",
       "max    206.00           96.00     97.00          64.00           97.00"
      ]
     },
     "execution_count": 16,
     "metadata": {},
     "output_type": "execute_result"
    }
   ],
   "source": [
    "df[features].describe().round(2)"
   ]
  },
  {
   "cell_type": "markdown",
   "id": "09cf35b9-bd36-445e-823b-97a083bc10f9",
   "metadata": {},
   "source": [
    "Based on the visualizations, most songs fall between 100 and 140 BPM, which means popular music tends to be upbeat. Danceability is usually high, with most songs scoring between 60% and 80%. Energy also stays in a similar range, showing that popular songs are loud and energetic. Speechiness is very low in most tracks, meaning very little talking or rapping is present. Acousticness is also low, suggesting modern hit songs are mostly electronic or studio-produced instead of acoustic or live recordings."
   ]
  },
  {
   "cell_type": "markdown",
   "id": "2af8fd63-0909-43a2-a932-490ec1a08025",
   "metadata": {},
   "source": [
    "# Smash Hit Song Profile"
   ]
  },
  {
   "cell_type": "markdown",
   "id": "9fa44eac-b404-475d-9dc5-6b72a84714f0",
   "metadata": {},
   "source": [
    "BPM: 120–140\n",
    "\n",
    "Danceability: 65–80%\n",
    "\n",
    "Energy: 65–80%\n",
    "\n",
    "Speechiness: < 10%\n",
    "\n",
    "Acousticness: < 30%\n",
    "\n",
    "Key: C#\n",
    "\n",
    "Mode: Major "
   ]
  },
  {
   "cell_type": "markdown",
   "id": "fa36d575-48ca-4dc0-a135-9f97d791f7d4",
   "metadata": {},
   "source": [
    "Based on the summary, a guaranteed hit would probably be between 120-140 BPM, with a danceability score around 65–80% and an energy level in the same range. Speechiness should be under 10% since most popular songs don’t have a lot of talking in them. Acousticness should be under 30% because a lot of modern hits are more electronic-sounding. The most common key in the dataset is C#, and the Major mode shows up slightly more than Minor."
   ]
  },
  {
   "cell_type": "markdown",
   "id": "dbb0b98e-f71b-48a4-8310-37a28323dcc8",
   "metadata": {},
   "source": [
    "# Finding Matching Songs "
   ]
  },
  {
   "cell_type": "code",
   "execution_count": 21,
   "id": "20bb4534-f84a-4f6a-ad47-752b2b5ba181",
   "metadata": {},
   "outputs": [
    {
     "data": {
      "text/html": [
       "<div>\n",
       "<style scoped>\n",
       "    .dataframe tbody tr th:only-of-type {\n",
       "        vertical-align: middle;\n",
       "    }\n",
       "\n",
       "    .dataframe tbody tr th {\n",
       "        vertical-align: top;\n",
       "    }\n",
       "\n",
       "    .dataframe thead th {\n",
       "        text-align: right;\n",
       "    }\n",
       "</style>\n",
       "<table border=\"1\" class=\"dataframe\">\n",
       "  <thead>\n",
       "    <tr style=\"text-align: right;\">\n",
       "      <th></th>\n",
       "      <th>track_name</th>\n",
       "      <th>artist(s)_name</th>\n",
       "      <th>streams</th>\n",
       "      <th>bpm</th>\n",
       "      <th>danceability_%</th>\n",
       "      <th>energy_%</th>\n",
       "      <th>speechiness_%</th>\n",
       "      <th>acousticness_%</th>\n",
       "    </tr>\n",
       "  </thead>\n",
       "  <tbody>\n",
       "    <tr>\n",
       "      <th>168</th>\n",
       "      <td>We Found Love</td>\n",
       "      <td>Rihanna, Calvin Harris</td>\n",
       "      <td>1235005533</td>\n",
       "      <td>128</td>\n",
       "      <td>73</td>\n",
       "      <td>77</td>\n",
       "      <td>4</td>\n",
       "      <td>3</td>\n",
       "    </tr>\n",
       "    <tr>\n",
       "      <th>236</th>\n",
       "      <td>AMERICA HAS A PROBLEM (feat. Kendrick Lamar)</td>\n",
       "      <td>Kendrick Lamar, Beyoncï¿</td>\n",
       "      <td>57089066</td>\n",
       "      <td>126</td>\n",
       "      <td>78</td>\n",
       "      <td>70</td>\n",
       "      <td>4</td>\n",
       "      <td>1</td>\n",
       "    </tr>\n",
       "    <tr>\n",
       "      <th>778</th>\n",
       "      <td>Dos Mil 16</td>\n",
       "      <td>Bad Bunny</td>\n",
       "      <td>338422004</td>\n",
       "      <td>130</td>\n",
       "      <td>82</td>\n",
       "      <td>67</td>\n",
       "      <td>5</td>\n",
       "      <td>12</td>\n",
       "    </tr>\n",
       "  </tbody>\n",
       "</table>\n",
       "</div>"
      ],
      "text/plain": [
       "                                       track_name            artist(s)_name  \\\n",
       "168                                 We Found Love    Rihanna, Calvin Harris   \n",
       "236  AMERICA HAS A PROBLEM (feat. Kendrick Lamar)  Kendrick Lamar, Beyoncï¿   \n",
       "778                                    Dos Mil 16                 Bad Bunny   \n",
       "\n",
       "        streams  bpm  danceability_%  energy_%  speechiness_%  acousticness_%  \n",
       "168  1235005533  128              73        77              4               3  \n",
       "236    57089066  126              78        70              4               1  \n",
       "778   338422004  130              82        67              5              12  "
      ]
     },
     "execution_count": 21,
     "metadata": {},
     "output_type": "execute_result"
    }
   ],
   "source": [
    "hit = df[\n",
    "    (df['bpm'].between(120,140)) &\n",
    "    (df['danceability_%'] >= 65) &\n",
    "    (df['energy_%'] >= 65) &\n",
    "    (df['speechiness_%'] <= 10) &\n",
    "    (df['acousticness_%'] <= 30) &\n",
    "    (df['key'] == 'C#') &\n",
    "    (df['mode'] == 'Major')\n",
    "]\n",
    "\n",
    "hit[['track_name', 'artist(s)_name','streams','bpm',\n",
    "     'danceability_%', 'energy_%','speechiness_%','acousticness_%']]"
   ]
  },
  {
   "cell_type": "markdown",
   "id": "cb2667c6-df24-4700-9992-fb99680ce3f1",
   "metadata": {},
   "source": [
    "Using the criteria I picked (BPM 120–140, high danceability/energy, low speechiness/acousticness, key of C#, and Major mode), I found three songs that match: \n",
    "\n",
    "1. We Found Love (Rihanna & Calvin Harris) \n",
    "2. AMERICA HAS A PROBLEM (Beyoncé & Kendrick Lamar)\n",
    "3. Dos Mil 16 (Bad Bunny) \n",
    "\n",
    "All of these have tens or even hundreds of millions of streams, which shows that these features are actually pretty common in real hit songs."
   ]
  },
  {
   "cell_type": "markdown",
   "id": "ca211d1d-fadf-4527-82f2-a802c708df9c",
   "metadata": {},
   "source": [
    "# Song Choice: Blinding Lights by The Weeknd"
   ]
  },
  {
   "cell_type": "code",
   "execution_count": 24,
   "id": "a4517aeb-ac3e-4f72-903f-5779d653eec7",
   "metadata": {},
   "outputs": [
    {
     "data": {
      "text/html": [
       "<div>\n",
       "<style scoped>\n",
       "    .dataframe tbody tr th:only-of-type {\n",
       "        vertical-align: middle;\n",
       "    }\n",
       "\n",
       "    .dataframe tbody tr th {\n",
       "        vertical-align: top;\n",
       "    }\n",
       "\n",
       "    .dataframe thead th {\n",
       "        text-align: right;\n",
       "    }\n",
       "</style>\n",
       "<table border=\"1\" class=\"dataframe\">\n",
       "  <thead>\n",
       "    <tr style=\"text-align: right;\">\n",
       "      <th></th>\n",
       "      <th>track_name</th>\n",
       "      <th>artist(s)_name</th>\n",
       "      <th>bpm</th>\n",
       "      <th>danceability_%</th>\n",
       "      <th>energy_%</th>\n",
       "      <th>speechiness_%</th>\n",
       "      <th>acousticness_%</th>\n",
       "      <th>key</th>\n",
       "      <th>mode</th>\n",
       "    </tr>\n",
       "  </thead>\n",
       "  <tbody>\n",
       "    <tr>\n",
       "      <th>55</th>\n",
       "      <td>Blinding Lights</td>\n",
       "      <td>The Weeknd</td>\n",
       "      <td>171</td>\n",
       "      <td>50</td>\n",
       "      <td>80</td>\n",
       "      <td>7</td>\n",
       "      <td>0</td>\n",
       "      <td>C#</td>\n",
       "      <td>Major</td>\n",
       "    </tr>\n",
       "  </tbody>\n",
       "</table>\n",
       "</div>"
      ],
      "text/plain": [
       "         track_name artist(s)_name  bpm  danceability_%  energy_%  \\\n",
       "55  Blinding Lights     The Weeknd  171              50        80   \n",
       "\n",
       "    speechiness_%  acousticness_% key   mode  \n",
       "55              7               0  C#  Major  "
      ]
     },
     "execution_count": 24,
     "metadata": {},
     "output_type": "execute_result"
    }
   ],
   "source": [
    "song = df[df['track_name'].str.contains('Blinding Lights', case=False, na=False)]\n",
    "song[['track_name', 'artist(s)_name', 'bpm', 'danceability_%', 'energy_%', 'speechiness_%', 'acousticness_%', 'key', 'mode']]"
   ]
  },
  {
   "cell_type": "markdown",
   "id": "97cddb58-3c7e-4734-aaf2-fb9ee569d70b",
   "metadata": {},
   "source": [
    "# Comparison to the dataset:"
   ]
  },
  {
   "cell_type": "markdown",
   "id": "47ae55ae-8b94-4fec-9166-169136f0d482",
   "metadata": {},
   "source": [
    "Blinding Lights actually matches a lot of the patterns I found in the dataset. It has a really fast BPM at 171, which is higher than the usual 120-140 range, but the energy level is 80%, which is super common in hit songs. Its danceability is 50%, which is a bit lower than the 65-80% range I found, but the song still feels upbeat and catchy. It also has really low speechiness (7%) and acousticness (0%), which lines up with the idea that most popular songs aren’t acoustic and don’t have much talking. The song is in the key of C# and is in a Major mode, which were both very common in the dataset. Overall, most of Blinding Lights fits the trends I found for modern hit songs."
   ]
  }
 ],
 "metadata": {
  "kernelspec": {
   "display_name": "Python [conda env:DeusExMachina]",
   "language": "python",
   "name": "conda-env-DeusExMachina-py"
  },
  "language_info": {
   "codemirror_mode": {
    "name": "ipython",
    "version": 3
   },
   "file_extension": ".py",
   "mimetype": "text/x-python",
   "name": "python",
   "nbconvert_exporter": "python",
   "pygments_lexer": "ipython3",
   "version": "3.13.2"
  }
 },
 "nbformat": 4,
 "nbformat_minor": 5
}
