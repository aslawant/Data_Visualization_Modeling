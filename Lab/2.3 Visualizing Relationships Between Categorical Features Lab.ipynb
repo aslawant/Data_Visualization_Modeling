{
 "cells": [
  {
   "cell_type": "markdown",
   "id": "03b012f6-6644-4c05-8269-586b4dc6b8fc",
   "metadata": {
    "tags": []
   },
   "source": [
    "# Lab Instructions\n",
    "\n",
    "You have been hired by James Cameron to create profiles of two characters for a reboot of the Titanic Movie: one that is most likely to survive the sinking and one that is least likely to survive.  Mr. Cameron wants this reboot to be as historically accurate as possible, so your profile of each character should be backed up with data and visualizations.\n",
    "\n",
    "Each character profile should include information on their:\n",
    "* Age, fare\n",
    "* Sex\n",
    "* Passenger class\n",
    "* Travel companions (including both parents/children and siblings/spouse)\n",
    "* Port of departure (indicated by the Embarked feature in the dataset)\n",
    "\n",
    "For quantitative features like `Age` and `Fare`, you will need to use the `.loc` method we learned in class (or something similar) to place individuals in categories.  How you choose to do this is up to you, but make sure you explain your reasoning.\n",
    "\n",
    "You should include at least one visualization for each element of the character profile (age, sex, passenger class, etc.) as evidence.\n",
    "\n",
    "After you have developed your two character profiles, use your Pandas data wrangling skills to identify at least one real passenger in the dataset that fits each profile.  Print out the names of these individuals.  Look them up in [Encyclopeida Titanica](https://www.encyclopedia-titanica.org/) (or a similar resource).  \n",
    "\n",
    "Tell Mr. Cameron at least one thing about the real passengers who fit your two character profiles that you learned from an external resource.  You need one interesting fact about a person who fits the profile of \"most likely to survive\" and one interesting fact about a person who fits the profile of \"least likely to surivive\".  \n",
    "\n"
   ]
  },
  {
   "cell_type": "code",
   "execution_count": 2,
   "id": "3e525c9c-d0f3-48af-b0d9-6f7c6dfdb49d",
   "metadata": {},
   "outputs": [],
   "source": [
    "import pandas as pd\n",
    "\n",
    "df = pd.read_csv('titanic_passengers.csv')\n",
    "\n"
   ]
  },
  {
   "cell_type": "code",
   "execution_count": 3,
   "id": "4d874817-1b1e-4dfb-9de0-4075c897d177",
   "metadata": {
    "tags": []
   },
   "outputs": [
    {
     "data": {
      "text/plain": [
       "count    891.000000\n",
       "mean      32.204208\n",
       "std       49.693429\n",
       "min        0.000000\n",
       "25%        7.910400\n",
       "50%       14.454200\n",
       "75%       31.000000\n",
       "max      512.329200\n",
       "Name: Fare, dtype: float64"
      ]
     },
     "execution_count": 3,
     "metadata": {},
     "output_type": "execute_result"
    }
   ],
   "source": [
    "df['Fare'].describe()"
   ]
  },
  {
   "cell_type": "code",
   "execution_count": null,
   "id": "773e8610-98c3-4632-9da0-7ea346028c73",
   "metadata": {},
   "outputs": [],
   "source": []
  },
  {
   "cell_type": "code",
   "execution_count": null,
   "id": "5f592bbc-ed04-402a-aa62-c44074975d02",
   "metadata": {},
   "outputs": [],
   "source": []
  }
 ],
 "metadata": {
  "kernelspec": {
   "display_name": "Python 3 (ipykernel)",
   "language": "python",
   "name": "python3"
  },
  "language_info": {
   "codemirror_mode": {
    "name": "ipython",
    "version": 3
   },
   "file_extension": ".py",
   "mimetype": "text/x-python",
   "name": "python",
   "nbconvert_exporter": "python",
   "pygments_lexer": "ipython3",
   "version": "3.11.4"
  }
 },
 "nbformat": 4,
 "nbformat_minor": 5
}
